{
  "nbformat": 4,
  "nbformat_minor": 0,
  "metadata": {
    "colab": {
      "name": "(ID_1572566777c1f000)",
      "provenance": [],
      "collapsed_sections": [],
      "toc_visible": true,
      "authorship_tag": "ABX9TyP973sJ300svd0l1ygqK8vb",
      "include_colab_link": true
    },
    "kernelspec": {
      "name": "python3",
      "display_name": "Python 3"
    },
    "language_info": {
      "name": "python"
    }
  },
  "cells": [
    {
      "cell_type": "markdown",
      "metadata": {
        "id": "view-in-github",
        "colab_type": "text"
      },
      "source": [
        "<a href=\"https://colab.research.google.com/github/nana-khay/nana-repository-/blob/main/(ID_1572566777c1f000).ipynb\" target=\"_parent\"><img src=\"https://colab.research.google.com/assets/colab-badge.svg\" alt=\"Open In Colab\"/></a>"
      ]
    },
    {
      "cell_type": "code",
      "execution_count": null,
      "metadata": {
        "id": "6XeI2SIeCL4t"
      },
      "outputs": [],
      "source": [
        "import pandas as pd\n",
        "import numpy as np"
      ]
    },
    {
      "cell_type": "code",
      "source": [
        "df=pd.read_csv('https://github.com/HamoyeHQ/HDSC-Introduction-to-Python-for-machine-learning/files/7768140/FoodBalanceSheets_E_Africa_NOFLAG.csv', encoding='latin-1')\n",
        "df"
      ],
      "metadata": {
        "id": "6GCDJboPDbp8",
        "colab": {
          "base_uri": "https://localhost:8080/",
          "height": 748
        },
        "outputId": "b12e3be6-83ea-4c24-ef11-b9edd8d630b6"
      },
      "execution_count": null,
      "outputs": [
        {
          "output_type": "execute_result",
          "data": {
            "text/plain": [
              "       Area Code      Area  Item Code           Item  Element Code  \\\n",
              "0              4   Algeria       2501     Population           511   \n",
              "1              4   Algeria       2501     Population          5301   \n",
              "2              4   Algeria       2901    Grand Total           664   \n",
              "3              4   Algeria       2901    Grand Total           674   \n",
              "4              4   Algeria       2901    Grand Total           684   \n",
              "...          ...       ...        ...            ...           ...   \n",
              "60938        181  Zimbabwe       2899  Miscellaneous          5142   \n",
              "60939        181  Zimbabwe       2899  Miscellaneous           645   \n",
              "60940        181  Zimbabwe       2899  Miscellaneous           664   \n",
              "60941        181  Zimbabwe       2899  Miscellaneous           674   \n",
              "60942        181  Zimbabwe       2899  Miscellaneous           684   \n",
              "\n",
              "                                      Element             Unit     Y2014  \\\n",
              "0               Total Population - Both sexes     1000 persons  38924.00   \n",
              "1                    Domestic supply quantity      1000 tonnes      0.00   \n",
              "2               Food supply (kcal/capita/day)  kcal/capita/day   3377.00   \n",
              "3      Protein supply quantity (g/capita/day)     g/capita/day     94.90   \n",
              "4          Fat supply quantity (g/capita/day)     g/capita/day     80.06   \n",
              "...                                       ...              ...       ...   \n",
              "60938                                    Food      1000 tonnes     42.00   \n",
              "60939     Food supply quantity (kg/capita/yr)               kg      3.06   \n",
              "60940           Food supply (kcal/capita/day)  kcal/capita/day      3.00   \n",
              "60941  Protein supply quantity (g/capita/day)     g/capita/day      0.10   \n",
              "60942      Fat supply quantity (g/capita/day)     g/capita/day      0.04   \n",
              "\n",
              "          Y2015     Y2016     Y2017     Y2018  \n",
              "0      39728.00  40551.00  41389.00  42228.00  \n",
              "1          0.00      0.00      0.00      0.00  \n",
              "2       3379.00   3372.00   3341.00   3322.00  \n",
              "3         94.35     94.72     92.82     91.83  \n",
              "4         79.36     77.40     80.19     77.28  \n",
              "...         ...       ...       ...       ...  \n",
              "60938     46.00     33.00     19.00     16.00  \n",
              "60939      3.33      2.35      1.33      1.08  \n",
              "60940      4.00      3.00      1.00      1.00  \n",
              "60941      0.11      0.08      0.04      0.04  \n",
              "60942      0.05      0.03      0.02      0.01  \n",
              "\n",
              "[60943 rows x 12 columns]"
            ],
            "text/html": [
              "\n",
              "  <div id=\"df-54a366cf-5ed4-4d5a-82c1-3ffaa69fd4c7\">\n",
              "    <div class=\"colab-df-container\">\n",
              "      <div>\n",
              "<style scoped>\n",
              "    .dataframe tbody tr th:only-of-type {\n",
              "        vertical-align: middle;\n",
              "    }\n",
              "\n",
              "    .dataframe tbody tr th {\n",
              "        vertical-align: top;\n",
              "    }\n",
              "\n",
              "    .dataframe thead th {\n",
              "        text-align: right;\n",
              "    }\n",
              "</style>\n",
              "<table border=\"1\" class=\"dataframe\">\n",
              "  <thead>\n",
              "    <tr style=\"text-align: right;\">\n",
              "      <th></th>\n",
              "      <th>Area Code</th>\n",
              "      <th>Area</th>\n",
              "      <th>Item Code</th>\n",
              "      <th>Item</th>\n",
              "      <th>Element Code</th>\n",
              "      <th>Element</th>\n",
              "      <th>Unit</th>\n",
              "      <th>Y2014</th>\n",
              "      <th>Y2015</th>\n",
              "      <th>Y2016</th>\n",
              "      <th>Y2017</th>\n",
              "      <th>Y2018</th>\n",
              "    </tr>\n",
              "  </thead>\n",
              "  <tbody>\n",
              "    <tr>\n",
              "      <th>0</th>\n",
              "      <td>4</td>\n",
              "      <td>Algeria</td>\n",
              "      <td>2501</td>\n",
              "      <td>Population</td>\n",
              "      <td>511</td>\n",
              "      <td>Total Population - Both sexes</td>\n",
              "      <td>1000 persons</td>\n",
              "      <td>38924.00</td>\n",
              "      <td>39728.00</td>\n",
              "      <td>40551.00</td>\n",
              "      <td>41389.00</td>\n",
              "      <td>42228.00</td>\n",
              "    </tr>\n",
              "    <tr>\n",
              "      <th>1</th>\n",
              "      <td>4</td>\n",
              "      <td>Algeria</td>\n",
              "      <td>2501</td>\n",
              "      <td>Population</td>\n",
              "      <td>5301</td>\n",
              "      <td>Domestic supply quantity</td>\n",
              "      <td>1000 tonnes</td>\n",
              "      <td>0.00</td>\n",
              "      <td>0.00</td>\n",
              "      <td>0.00</td>\n",
              "      <td>0.00</td>\n",
              "      <td>0.00</td>\n",
              "    </tr>\n",
              "    <tr>\n",
              "      <th>2</th>\n",
              "      <td>4</td>\n",
              "      <td>Algeria</td>\n",
              "      <td>2901</td>\n",
              "      <td>Grand Total</td>\n",
              "      <td>664</td>\n",
              "      <td>Food supply (kcal/capita/day)</td>\n",
              "      <td>kcal/capita/day</td>\n",
              "      <td>3377.00</td>\n",
              "      <td>3379.00</td>\n",
              "      <td>3372.00</td>\n",
              "      <td>3341.00</td>\n",
              "      <td>3322.00</td>\n",
              "    </tr>\n",
              "    <tr>\n",
              "      <th>3</th>\n",
              "      <td>4</td>\n",
              "      <td>Algeria</td>\n",
              "      <td>2901</td>\n",
              "      <td>Grand Total</td>\n",
              "      <td>674</td>\n",
              "      <td>Protein supply quantity (g/capita/day)</td>\n",
              "      <td>g/capita/day</td>\n",
              "      <td>94.90</td>\n",
              "      <td>94.35</td>\n",
              "      <td>94.72</td>\n",
              "      <td>92.82</td>\n",
              "      <td>91.83</td>\n",
              "    </tr>\n",
              "    <tr>\n",
              "      <th>4</th>\n",
              "      <td>4</td>\n",
              "      <td>Algeria</td>\n",
              "      <td>2901</td>\n",
              "      <td>Grand Total</td>\n",
              "      <td>684</td>\n",
              "      <td>Fat supply quantity (g/capita/day)</td>\n",
              "      <td>g/capita/day</td>\n",
              "      <td>80.06</td>\n",
              "      <td>79.36</td>\n",
              "      <td>77.40</td>\n",
              "      <td>80.19</td>\n",
              "      <td>77.28</td>\n",
              "    </tr>\n",
              "    <tr>\n",
              "      <th>...</th>\n",
              "      <td>...</td>\n",
              "      <td>...</td>\n",
              "      <td>...</td>\n",
              "      <td>...</td>\n",
              "      <td>...</td>\n",
              "      <td>...</td>\n",
              "      <td>...</td>\n",
              "      <td>...</td>\n",
              "      <td>...</td>\n",
              "      <td>...</td>\n",
              "      <td>...</td>\n",
              "      <td>...</td>\n",
              "    </tr>\n",
              "    <tr>\n",
              "      <th>60938</th>\n",
              "      <td>181</td>\n",
              "      <td>Zimbabwe</td>\n",
              "      <td>2899</td>\n",
              "      <td>Miscellaneous</td>\n",
              "      <td>5142</td>\n",
              "      <td>Food</td>\n",
              "      <td>1000 tonnes</td>\n",
              "      <td>42.00</td>\n",
              "      <td>46.00</td>\n",
              "      <td>33.00</td>\n",
              "      <td>19.00</td>\n",
              "      <td>16.00</td>\n",
              "    </tr>\n",
              "    <tr>\n",
              "      <th>60939</th>\n",
              "      <td>181</td>\n",
              "      <td>Zimbabwe</td>\n",
              "      <td>2899</td>\n",
              "      <td>Miscellaneous</td>\n",
              "      <td>645</td>\n",
              "      <td>Food supply quantity (kg/capita/yr)</td>\n",
              "      <td>kg</td>\n",
              "      <td>3.06</td>\n",
              "      <td>3.33</td>\n",
              "      <td>2.35</td>\n",
              "      <td>1.33</td>\n",
              "      <td>1.08</td>\n",
              "    </tr>\n",
              "    <tr>\n",
              "      <th>60940</th>\n",
              "      <td>181</td>\n",
              "      <td>Zimbabwe</td>\n",
              "      <td>2899</td>\n",
              "      <td>Miscellaneous</td>\n",
              "      <td>664</td>\n",
              "      <td>Food supply (kcal/capita/day)</td>\n",
              "      <td>kcal/capita/day</td>\n",
              "      <td>3.00</td>\n",
              "      <td>4.00</td>\n",
              "      <td>3.00</td>\n",
              "      <td>1.00</td>\n",
              "      <td>1.00</td>\n",
              "    </tr>\n",
              "    <tr>\n",
              "      <th>60941</th>\n",
              "      <td>181</td>\n",
              "      <td>Zimbabwe</td>\n",
              "      <td>2899</td>\n",
              "      <td>Miscellaneous</td>\n",
              "      <td>674</td>\n",
              "      <td>Protein supply quantity (g/capita/day)</td>\n",
              "      <td>g/capita/day</td>\n",
              "      <td>0.10</td>\n",
              "      <td>0.11</td>\n",
              "      <td>0.08</td>\n",
              "      <td>0.04</td>\n",
              "      <td>0.04</td>\n",
              "    </tr>\n",
              "    <tr>\n",
              "      <th>60942</th>\n",
              "      <td>181</td>\n",
              "      <td>Zimbabwe</td>\n",
              "      <td>2899</td>\n",
              "      <td>Miscellaneous</td>\n",
              "      <td>684</td>\n",
              "      <td>Fat supply quantity (g/capita/day)</td>\n",
              "      <td>g/capita/day</td>\n",
              "      <td>0.04</td>\n",
              "      <td>0.05</td>\n",
              "      <td>0.03</td>\n",
              "      <td>0.02</td>\n",
              "      <td>0.01</td>\n",
              "    </tr>\n",
              "  </tbody>\n",
              "</table>\n",
              "<p>60943 rows × 12 columns</p>\n",
              "</div>\n",
              "      <button class=\"colab-df-convert\" onclick=\"convertToInteractive('df-54a366cf-5ed4-4d5a-82c1-3ffaa69fd4c7')\"\n",
              "              title=\"Convert this dataframe to an interactive table.\"\n",
              "              style=\"display:none;\">\n",
              "        \n",
              "  <svg xmlns=\"http://www.w3.org/2000/svg\" height=\"24px\"viewBox=\"0 0 24 24\"\n",
              "       width=\"24px\">\n",
              "    <path d=\"M0 0h24v24H0V0z\" fill=\"none\"/>\n",
              "    <path d=\"M18.56 5.44l.94 2.06.94-2.06 2.06-.94-2.06-.94-.94-2.06-.94 2.06-2.06.94zm-11 1L8.5 8.5l.94-2.06 2.06-.94-2.06-.94L8.5 2.5l-.94 2.06-2.06.94zm10 10l.94 2.06.94-2.06 2.06-.94-2.06-.94-.94-2.06-.94 2.06-2.06.94z\"/><path d=\"M17.41 7.96l-1.37-1.37c-.4-.4-.92-.59-1.43-.59-.52 0-1.04.2-1.43.59L10.3 9.45l-7.72 7.72c-.78.78-.78 2.05 0 2.83L4 21.41c.39.39.9.59 1.41.59.51 0 1.02-.2 1.41-.59l7.78-7.78 2.81-2.81c.8-.78.8-2.07 0-2.86zM5.41 20L4 18.59l7.72-7.72 1.47 1.35L5.41 20z\"/>\n",
              "  </svg>\n",
              "      </button>\n",
              "      \n",
              "  <style>\n",
              "    .colab-df-container {\n",
              "      display:flex;\n",
              "      flex-wrap:wrap;\n",
              "      gap: 12px;\n",
              "    }\n",
              "\n",
              "    .colab-df-convert {\n",
              "      background-color: #E8F0FE;\n",
              "      border: none;\n",
              "      border-radius: 50%;\n",
              "      cursor: pointer;\n",
              "      display: none;\n",
              "      fill: #1967D2;\n",
              "      height: 32px;\n",
              "      padding: 0 0 0 0;\n",
              "      width: 32px;\n",
              "    }\n",
              "\n",
              "    .colab-df-convert:hover {\n",
              "      background-color: #E2EBFA;\n",
              "      box-shadow: 0px 1px 2px rgba(60, 64, 67, 0.3), 0px 1px 3px 1px rgba(60, 64, 67, 0.15);\n",
              "      fill: #174EA6;\n",
              "    }\n",
              "\n",
              "    [theme=dark] .colab-df-convert {\n",
              "      background-color: #3B4455;\n",
              "      fill: #D2E3FC;\n",
              "    }\n",
              "\n",
              "    [theme=dark] .colab-df-convert:hover {\n",
              "      background-color: #434B5C;\n",
              "      box-shadow: 0px 1px 3px 1px rgba(0, 0, 0, 0.15);\n",
              "      filter: drop-shadow(0px 1px 2px rgba(0, 0, 0, 0.3));\n",
              "      fill: #FFFFFF;\n",
              "    }\n",
              "  </style>\n",
              "\n",
              "      <script>\n",
              "        const buttonEl =\n",
              "          document.querySelector('#df-54a366cf-5ed4-4d5a-82c1-3ffaa69fd4c7 button.colab-df-convert');\n",
              "        buttonEl.style.display =\n",
              "          google.colab.kernel.accessAllowed ? 'block' : 'none';\n",
              "\n",
              "        async function convertToInteractive(key) {\n",
              "          const element = document.querySelector('#df-54a366cf-5ed4-4d5a-82c1-3ffaa69fd4c7');\n",
              "          const dataTable =\n",
              "            await google.colab.kernel.invokeFunction('convertToInteractive',\n",
              "                                                     [key], {});\n",
              "          if (!dataTable) return;\n",
              "\n",
              "          const docLinkHtml = 'Like what you see? Visit the ' +\n",
              "            '<a target=\"_blank\" href=https://colab.research.google.com/notebooks/data_table.ipynb>data table notebook</a>'\n",
              "            + ' to learn more about interactive tables.';\n",
              "          element.innerHTML = '';\n",
              "          dataTable['output_type'] = 'display_data';\n",
              "          await google.colab.output.renderOutput(dataTable, element);\n",
              "          const docLink = document.createElement('div');\n",
              "          docLink.innerHTML = docLinkHtml;\n",
              "          element.appendChild(docLink);\n",
              "        }\n",
              "      </script>\n",
              "    </div>\n",
              "  </div>\n",
              "  "
            ]
          },
          "metadata": {},
          "execution_count": 3
        }
      ]
    },
    {
      "cell_type": "code",
      "source": [
        "df.groupby('Item')['Y2014'].sum()"
      ],
      "metadata": {
        "colab": {
          "base_uri": "https://localhost:8080/"
        },
        "id": "1iLMaLt1LUhB",
        "outputId": "b5a43f94-2513-4d65-d32a-362e19d0b0d6"
      },
      "execution_count": null,
      "outputs": [
        {
          "output_type": "execute_result",
          "data": {
            "text/plain": [
              "Item\n",
              "Alcohol, Non-Food        2403.00\n",
              "Alcoholic Beverages    102410.11\n",
              "Animal Products         11935.65\n",
              "Animal fats            209460.54\n",
              "Apples and products      9499.23\n",
              "                         ...    \n",
              "Vegetables, Other      155038.96\n",
              "Vegetal Products       107145.19\n",
              "Wheat and products     232670.13\n",
              "Wine                     4497.36\n",
              "Yams                   200396.96\n",
              "Name: Y2014, Length: 119, dtype: float64"
            ]
          },
          "metadata": {},
          "execution_count": 4
        }
      ]
    },
    {
      "cell_type": "code",
      "source": [
        "df.groupby('Item')['Y2017'].sum()"
      ],
      "metadata": {
        "colab": {
          "base_uri": "https://localhost:8080/"
        },
        "id": "seYKktVRQnPh",
        "outputId": "96a1444c-92d6-415f-b088-0588155c5d0f"
      },
      "execution_count": null,
      "outputs": [
        {
          "output_type": "execute_result",
          "data": {
            "text/plain": [
              "Item\n",
              "Alcohol, Non-Food        2348.00\n",
              "Alcoholic Beverages     95581.06\n",
              "Animal Products         11547.65\n",
              "Animal fats            269617.53\n",
              "Apples and products     10198.90\n",
              "                         ...    \n",
              "Vegetables, Other      157752.59\n",
              "Vegetal Products       107655.20\n",
              "Wheat and products     240047.62\n",
              "Wine                     4178.02\n",
              "Yams                   229174.59\n",
              "Name: Y2017, Length: 119, dtype: float64"
            ]
          },
          "metadata": {},
          "execution_count": 5
        }
      ]
    },
    {
      "cell_type": "code",
      "source": [
        "df.mean()"
      ],
      "metadata": {
        "colab": {
          "base_uri": "https://localhost:8080/"
        },
        "id": "KXgf6HMqSVPz",
        "outputId": "70a9f58c-e6da-4ee9-9913-1c67b95199df"
      },
      "execution_count": null,
      "outputs": [
        {
          "output_type": "stream",
          "name": "stderr",
          "text": [
            "/usr/local/lib/python3.7/dist-packages/ipykernel_launcher.py:1: FutureWarning: Dropping of nuisance columns in DataFrame reductions (with 'numeric_only=None') is deprecated; in a future version this will raise TypeError.  Select only valid columns before calling the reduction.\n",
            "  \"\"\"Entry point for launching an IPython kernel.\n"
          ]
        },
        {
          "output_type": "execute_result",
          "data": {
            "text/plain": [
              "Area Code        134.265576\n",
              "Item Code       2687.176706\n",
              "Element Code    3814.856456\n",
              "Y2014            134.196282\n",
              "Y2015            135.235966\n",
              "Y2016            136.555222\n",
              "Y2017            140.917765\n",
              "Y2018            143.758381\n",
              "dtype: float64"
            ]
          },
          "metadata": {},
          "execution_count": 6
        }
      ]
    },
    {
      "cell_type": "code",
      "source": [
        "df.std()"
      ],
      "metadata": {
        "colab": {
          "base_uri": "https://localhost:8080/"
        },
        "id": "YHp0rMyGSlLU",
        "outputId": "82d0d189-5290-49c9-9360-fde919a567f3"
      },
      "execution_count": null,
      "outputs": [
        {
          "output_type": "stream",
          "name": "stderr",
          "text": [
            "/usr/local/lib/python3.7/dist-packages/ipykernel_launcher.py:1: FutureWarning: Dropping of nuisance columns in DataFrame reductions (with 'numeric_only=None') is deprecated; in a future version this will raise TypeError.  Select only valid columns before calling the reduction.\n",
            "  \"\"\"Entry point for launching an IPython kernel.\n"
          ]
        },
        {
          "output_type": "execute_result",
          "data": {
            "text/plain": [
              "Area Code         72.605709\n",
              "Item Code        146.055739\n",
              "Element Code    2212.007033\n",
              "Y2014           1567.663696\n",
              "Y2015           1603.403984\n",
              "Y2016           1640.007194\n",
              "Y2017           1671.862359\n",
              "Y2018           1710.782658\n",
              "dtype: float64"
            ]
          },
          "metadata": {},
          "execution_count": 7
        }
      ]
    },
    {
      "cell_type": "code",
      "source": [
        "df.isnull().sum()"
      ],
      "metadata": {
        "colab": {
          "base_uri": "https://localhost:8080/"
        },
        "id": "CElX4egBTF6P",
        "outputId": "aa787cad-601b-41ec-c3ce-ea54423feed9"
      },
      "execution_count": null,
      "outputs": [
        {
          "output_type": "execute_result",
          "data": {
            "text/plain": [
              "Area Code          0\n",
              "Area               0\n",
              "Item Code          0\n",
              "Item               0\n",
              "Element Code       0\n",
              "Element            0\n",
              "Unit               0\n",
              "Y2014           1589\n",
              "Y2015           1548\n",
              "Y2016           1535\n",
              "Y2017           1506\n",
              "Y2018           1436\n",
              "dtype: int64"
            ]
          },
          "metadata": {},
          "execution_count": 8
        }
      ]
    },
    {
      "cell_type": "code",
      "source": [
        "df.describe()"
      ],
      "metadata": {
        "colab": {
          "base_uri": "https://localhost:8080/",
          "height": 382
        },
        "id": "QQVmyQOcULQ5",
        "outputId": "edd52e6a-d075-4122-a965-64fc8bcf522f"
      },
      "execution_count": null,
      "outputs": [
        {
          "output_type": "execute_result",
          "data": {
            "text/plain": [
              "          Area Code     Item Code  Element Code          Y2014          Y2015  \\\n",
              "count  60943.000000  60943.000000  60943.000000   59354.000000   59395.000000   \n",
              "mean     134.265576   2687.176706   3814.856456     134.196282     135.235966   \n",
              "std       72.605709    146.055739   2212.007033    1567.663696    1603.403984   \n",
              "min        4.000000   2501.000000    511.000000   -1796.000000   -3161.000000   \n",
              "25%       74.000000   2562.000000    684.000000       0.000000       0.000000   \n",
              "50%      136.000000   2630.000000   5142.000000       0.090000       0.080000   \n",
              "75%      195.000000   2775.000000   5511.000000       8.340000       8.460000   \n",
              "max      276.000000   2961.000000   5911.000000  176405.000000  181137.000000   \n",
              "\n",
              "               Y2016          Y2017          Y2018  \n",
              "count   59408.000000   59437.000000   59507.000000  \n",
              "mean      136.555222     140.917765     143.758381  \n",
              "std      1640.007194    1671.862359    1710.782658  \n",
              "min     -3225.000000   -1582.000000   -3396.000000  \n",
              "25%         0.000000       0.000000       0.000000  \n",
              "50%         0.080000       0.100000       0.070000  \n",
              "75%         8.430000       9.000000       9.000000  \n",
              "max    185960.000000  190873.000000  195875.000000  "
            ],
            "text/html": [
              "\n",
              "  <div id=\"df-aaa04c01-8bac-4636-9513-fba879b5ca1f\">\n",
              "    <div class=\"colab-df-container\">\n",
              "      <div>\n",
              "<style scoped>\n",
              "    .dataframe tbody tr th:only-of-type {\n",
              "        vertical-align: middle;\n",
              "    }\n",
              "\n",
              "    .dataframe tbody tr th {\n",
              "        vertical-align: top;\n",
              "    }\n",
              "\n",
              "    .dataframe thead th {\n",
              "        text-align: right;\n",
              "    }\n",
              "</style>\n",
              "<table border=\"1\" class=\"dataframe\">\n",
              "  <thead>\n",
              "    <tr style=\"text-align: right;\">\n",
              "      <th></th>\n",
              "      <th>Area Code</th>\n",
              "      <th>Item Code</th>\n",
              "      <th>Element Code</th>\n",
              "      <th>Y2014</th>\n",
              "      <th>Y2015</th>\n",
              "      <th>Y2016</th>\n",
              "      <th>Y2017</th>\n",
              "      <th>Y2018</th>\n",
              "    </tr>\n",
              "  </thead>\n",
              "  <tbody>\n",
              "    <tr>\n",
              "      <th>count</th>\n",
              "      <td>60943.000000</td>\n",
              "      <td>60943.000000</td>\n",
              "      <td>60943.000000</td>\n",
              "      <td>59354.000000</td>\n",
              "      <td>59395.000000</td>\n",
              "      <td>59408.000000</td>\n",
              "      <td>59437.000000</td>\n",
              "      <td>59507.000000</td>\n",
              "    </tr>\n",
              "    <tr>\n",
              "      <th>mean</th>\n",
              "      <td>134.265576</td>\n",
              "      <td>2687.176706</td>\n",
              "      <td>3814.856456</td>\n",
              "      <td>134.196282</td>\n",
              "      <td>135.235966</td>\n",
              "      <td>136.555222</td>\n",
              "      <td>140.917765</td>\n",
              "      <td>143.758381</td>\n",
              "    </tr>\n",
              "    <tr>\n",
              "      <th>std</th>\n",
              "      <td>72.605709</td>\n",
              "      <td>146.055739</td>\n",
              "      <td>2212.007033</td>\n",
              "      <td>1567.663696</td>\n",
              "      <td>1603.403984</td>\n",
              "      <td>1640.007194</td>\n",
              "      <td>1671.862359</td>\n",
              "      <td>1710.782658</td>\n",
              "    </tr>\n",
              "    <tr>\n",
              "      <th>min</th>\n",
              "      <td>4.000000</td>\n",
              "      <td>2501.000000</td>\n",
              "      <td>511.000000</td>\n",
              "      <td>-1796.000000</td>\n",
              "      <td>-3161.000000</td>\n",
              "      <td>-3225.000000</td>\n",
              "      <td>-1582.000000</td>\n",
              "      <td>-3396.000000</td>\n",
              "    </tr>\n",
              "    <tr>\n",
              "      <th>25%</th>\n",
              "      <td>74.000000</td>\n",
              "      <td>2562.000000</td>\n",
              "      <td>684.000000</td>\n",
              "      <td>0.000000</td>\n",
              "      <td>0.000000</td>\n",
              "      <td>0.000000</td>\n",
              "      <td>0.000000</td>\n",
              "      <td>0.000000</td>\n",
              "    </tr>\n",
              "    <tr>\n",
              "      <th>50%</th>\n",
              "      <td>136.000000</td>\n",
              "      <td>2630.000000</td>\n",
              "      <td>5142.000000</td>\n",
              "      <td>0.090000</td>\n",
              "      <td>0.080000</td>\n",
              "      <td>0.080000</td>\n",
              "      <td>0.100000</td>\n",
              "      <td>0.070000</td>\n",
              "    </tr>\n",
              "    <tr>\n",
              "      <th>75%</th>\n",
              "      <td>195.000000</td>\n",
              "      <td>2775.000000</td>\n",
              "      <td>5511.000000</td>\n",
              "      <td>8.340000</td>\n",
              "      <td>8.460000</td>\n",
              "      <td>8.430000</td>\n",
              "      <td>9.000000</td>\n",
              "      <td>9.000000</td>\n",
              "    </tr>\n",
              "    <tr>\n",
              "      <th>max</th>\n",
              "      <td>276.000000</td>\n",
              "      <td>2961.000000</td>\n",
              "      <td>5911.000000</td>\n",
              "      <td>176405.000000</td>\n",
              "      <td>181137.000000</td>\n",
              "      <td>185960.000000</td>\n",
              "      <td>190873.000000</td>\n",
              "      <td>195875.000000</td>\n",
              "    </tr>\n",
              "  </tbody>\n",
              "</table>\n",
              "</div>\n",
              "      <button class=\"colab-df-convert\" onclick=\"convertToInteractive('df-aaa04c01-8bac-4636-9513-fba879b5ca1f')\"\n",
              "              title=\"Convert this dataframe to an interactive table.\"\n",
              "              style=\"display:none;\">\n",
              "        \n",
              "  <svg xmlns=\"http://www.w3.org/2000/svg\" height=\"24px\"viewBox=\"0 0 24 24\"\n",
              "       width=\"24px\">\n",
              "    <path d=\"M0 0h24v24H0V0z\" fill=\"none\"/>\n",
              "    <path d=\"M18.56 5.44l.94 2.06.94-2.06 2.06-.94-2.06-.94-.94-2.06-.94 2.06-2.06.94zm-11 1L8.5 8.5l.94-2.06 2.06-.94-2.06-.94L8.5 2.5l-.94 2.06-2.06.94zm10 10l.94 2.06.94-2.06 2.06-.94-2.06-.94-.94-2.06-.94 2.06-2.06.94z\"/><path d=\"M17.41 7.96l-1.37-1.37c-.4-.4-.92-.59-1.43-.59-.52 0-1.04.2-1.43.59L10.3 9.45l-7.72 7.72c-.78.78-.78 2.05 0 2.83L4 21.41c.39.39.9.59 1.41.59.51 0 1.02-.2 1.41-.59l7.78-7.78 2.81-2.81c.8-.78.8-2.07 0-2.86zM5.41 20L4 18.59l7.72-7.72 1.47 1.35L5.41 20z\"/>\n",
              "  </svg>\n",
              "      </button>\n",
              "      \n",
              "  <style>\n",
              "    .colab-df-container {\n",
              "      display:flex;\n",
              "      flex-wrap:wrap;\n",
              "      gap: 12px;\n",
              "    }\n",
              "\n",
              "    .colab-df-convert {\n",
              "      background-color: #E8F0FE;\n",
              "      border: none;\n",
              "      border-radius: 50%;\n",
              "      cursor: pointer;\n",
              "      display: none;\n",
              "      fill: #1967D2;\n",
              "      height: 32px;\n",
              "      padding: 0 0 0 0;\n",
              "      width: 32px;\n",
              "    }\n",
              "\n",
              "    .colab-df-convert:hover {\n",
              "      background-color: #E2EBFA;\n",
              "      box-shadow: 0px 1px 2px rgba(60, 64, 67, 0.3), 0px 1px 3px 1px rgba(60, 64, 67, 0.15);\n",
              "      fill: #174EA6;\n",
              "    }\n",
              "\n",
              "    [theme=dark] .colab-df-convert {\n",
              "      background-color: #3B4455;\n",
              "      fill: #D2E3FC;\n",
              "    }\n",
              "\n",
              "    [theme=dark] .colab-df-convert:hover {\n",
              "      background-color: #434B5C;\n",
              "      box-shadow: 0px 1px 3px 1px rgba(0, 0, 0, 0.15);\n",
              "      filter: drop-shadow(0px 1px 2px rgba(0, 0, 0, 0.3));\n",
              "      fill: #FFFFFF;\n",
              "    }\n",
              "  </style>\n",
              "\n",
              "      <script>\n",
              "        const buttonEl =\n",
              "          document.querySelector('#df-aaa04c01-8bac-4636-9513-fba879b5ca1f button.colab-df-convert');\n",
              "        buttonEl.style.display =\n",
              "          google.colab.kernel.accessAllowed ? 'block' : 'none';\n",
              "\n",
              "        async function convertToInteractive(key) {\n",
              "          const element = document.querySelector('#df-aaa04c01-8bac-4636-9513-fba879b5ca1f');\n",
              "          const dataTable =\n",
              "            await google.colab.kernel.invokeFunction('convertToInteractive',\n",
              "                                                     [key], {});\n",
              "          if (!dataTable) return;\n",
              "\n",
              "          const docLinkHtml = 'Like what you see? Visit the ' +\n",
              "            '<a target=\"_blank\" href=https://colab.research.google.com/notebooks/data_table.ipynb>data table notebook</a>'\n",
              "            + ' to learn more about interactive tables.';\n",
              "          element.innerHTML = '';\n",
              "          dataTable['output_type'] = 'display_data';\n",
              "          await google.colab.output.renderOutput(dataTable, element);\n",
              "          const docLink = document.createElement('div');\n",
              "          docLink.innerHTML = docLinkHtml;\n",
              "          element.appendChild(docLink);\n",
              "        }\n",
              "      </script>\n",
              "    </div>\n",
              "  </div>\n",
              "  "
            ]
          },
          "metadata": {},
          "execution_count": 9
        }
      ]
    },
    {
      "cell_type": "code",
      "source": [
        "df.groupby('Element')['Y2014'].sum()"
      ],
      "metadata": {
        "colab": {
          "base_uri": "https://localhost:8080/"
        },
        "id": "cptGrNIDVAeq",
        "outputId": "c9b7c02e-a82e-4e02-f7e6-3b29ecb61ab0"
      },
      "execution_count": null,
      "outputs": [
        {
          "output_type": "execute_result",
          "data": {
            "text/plain": [
              "Element\n",
              "Domestic supply quantity                  1996716.35\n",
              "Export Quantity                            150020.64\n",
              "Fat supply quantity (g/capita/day)          10225.56\n",
              "Feed                                       216927.89\n",
              "Food                                      1212332.49\n",
              "Food supply (kcal/capita/day)              454257.00\n",
              "Food supply quantity (kg/capita/yr)         49650.63\n",
              "Import Quantity                            274144.48\n",
              "Losses                                     153223.00\n",
              "Other uses (non-food)                       78718.13\n",
              "Processing                                 282923.00\n",
              "Production                                1931287.75\n",
              "Protein supply quantity (g/capita/day)      11836.46\n",
              "Residuals                                   30149.00\n",
              "Seed                                        21922.92\n",
              "Stock Variation                             58749.83\n",
              "Total Population - Both sexes             1031585.00\n",
              "Tourist consumption                           416.00\n",
              "Name: Y2014, dtype: float64"
            ]
          },
          "metadata": {},
          "execution_count": 10
        }
      ]
    },
    {
      "cell_type": "code",
      "source": [
        "df.groupby('Element')['Y2015'].sum()"
      ],
      "metadata": {
        "colab": {
          "base_uri": "https://localhost:8080/"
        },
        "id": "wswsstSIWhvm",
        "outputId": "da4843c2-bba8-4738-d686-44a9757b5da3"
      },
      "execution_count": null,
      "outputs": [
        {
          "output_type": "execute_result",
          "data": {
            "text/plain": [
              "Element\n",
              "Domestic supply quantity                  2021493.55\n",
              "Export Quantity                            157614.47\n",
              "Fat supply quantity (g/capita/day)          10235.74\n",
              "Feed                                       225050.22\n",
              "Food                                      1232361.10\n",
              "Food supply (kcal/capita/day)              453383.00\n",
              "Food supply quantity (kg/capita/yr)         49345.13\n",
              "Import Quantity                            267018.46\n",
              "Losses                                     155439.00\n",
              "Other uses (non-food)                       66254.41\n",
              "Processing                                 287929.00\n",
              "Production                                1947019.39\n",
              "Protein supply quantity (g/capita/day)      11833.95\n",
              "Residuals                                   30045.00\n",
              "Seed                                        23976.82\n",
              "Stock Variation                             34910.99\n",
              "Total Population - Both sexes             1058081.00\n",
              "Tourist consumption                           349.00\n",
              "Name: Y2015, dtype: float64"
            ]
          },
          "metadata": {},
          "execution_count": 11
        }
      ]
    },
    {
      "cell_type": "code",
      "source": [
        "df.groupby('Element')['Y2016'].sum()"
      ],
      "metadata": {
        "colab": {
          "base_uri": "https://localhost:8080/"
        },
        "id": "iPBzYshGWlq6",
        "outputId": "1063498b-13b8-459a-c4b5-20bdd71a7159"
      },
      "execution_count": null,
      "outputs": [
        {
          "output_type": "execute_result",
          "data": {
            "text/plain": [
              "Element\n",
              "Domestic supply quantity                  2044842.70\n",
              "Export Quantity                            151920.46\n",
              "Fat supply quantity (g/capita/day)          10102.77\n",
              "Feed                                       228958.65\n",
              "Food                                      1247022.17\n",
              "Food supply (kcal/capita/day)              451810.00\n",
              "Food supply quantity (kg/capita/yr)         48985.28\n",
              "Import Quantity                            286582.78\n",
              "Losses                                     157787.00\n",
              "Other uses (non-food)                       69563.68\n",
              "Processing                                 280631.00\n",
              "Production                                1943537.15\n",
              "Protein supply quantity (g/capita/day)      11779.69\n",
              "Residuals                                   37224.00\n",
              "Seed                                        23389.20\n",
              "Stock Variation                             33140.12\n",
              "Total Population - Both sexes             1085107.00\n",
              "Tourist consumption                            89.00\n",
              "Name: Y2016, dtype: float64"
            ]
          },
          "metadata": {},
          "execution_count": 12
        }
      ]
    },
    {
      "cell_type": "code",
      "source": [
        "df.groupby('Element')['Y2017'].sum()"
      ],
      "metadata": {
        "colab": {
          "base_uri": "https://localhost:8080/"
        },
        "id": "LXG_0iRsWvTI",
        "outputId": "335ff5df-7927-4c83-d6c0-6c359b1f91fa"
      },
      "execution_count": null,
      "outputs": [
        {
          "output_type": "execute_result",
          "data": {
            "text/plain": [
              "Element\n",
              "Domestic supply quantity                  2088198.10\n",
              "Export Quantity                            182338.80\n",
              "Fat supply quantity (g/capita/day)          10253.84\n",
              "Feed                                       223705.68\n",
              "Food                                      1258888.28\n",
              "Food supply (kcal/capita/day)              454681.00\n",
              "Food supply quantity (kg/capita/yr)         48690.04\n",
              "Import Quantity                            294559.09\n",
              "Losses                                     160614.00\n",
              "Other uses (non-food)                       91645.97\n",
              "Processing                                 292836.00\n",
              "Production                                2030056.89\n",
              "Protein supply quantity (g/capita/day)      11842.45\n",
              "Residuals                                   35500.00\n",
              "Seed                                        24870.14\n",
              "Stock Variation                             54316.91\n",
              "Total Population - Both sexes             1112641.00\n",
              "Tourist consumption                            91.00\n",
              "Name: Y2017, dtype: float64"
            ]
          },
          "metadata": {},
          "execution_count": 13
        }
      ]
    },
    {
      "cell_type": "code",
      "source": [
        "df.groupby('Element')['Y2018'].sum()"
      ],
      "metadata": {
        "colab": {
          "base_uri": "https://localhost:8080/"
        },
        "id": "HjUh4NkDWyAf",
        "outputId": "62258dd9-3c33-4bb1-a442-ae5ed09621ee"
      },
      "execution_count": null,
      "outputs": [
        {
          "output_type": "execute_result",
          "data": {
            "text/plain": [
              "Element\n",
              "Domestic supply quantity                  2161192.10\n",
              "Export Quantity                            181594.80\n",
              "Fat supply quantity (g/capita/day)          10258.69\n",
              "Feed                                       233489.68\n",
              "Food                                      1303841.28\n",
              "Food supply (kcal/capita/day)              455261.00\n",
              "Food supply quantity (kg/capita/yr)         49056.85\n",
              "Import Quantity                            287997.09\n",
              "Losses                                     163902.00\n",
              "Other uses (non-food)                       91300.97\n",
              "Processing                                 308429.00\n",
              "Production                                2075072.89\n",
              "Protein supply quantity (g/capita/day)      11833.56\n",
              "Residuals                                   34864.00\n",
              "Seed                                        25263.14\n",
              "Stock Variation                             20577.91\n",
              "Total Population - Both sexes             1140605.00\n",
              "Tourist consumption                            90.00\n",
              "Name: Y2018, dtype: float64"
            ]
          },
          "metadata": {},
          "execution_count": 14
        }
      ]
    },
    {
      "cell_type": "code",
      "source": [
        "df.groupby('Area')['Area'].count()"
      ],
      "metadata": {
        "colab": {
          "base_uri": "https://localhost:8080/"
        },
        "id": "deAWEZIsZeS7",
        "outputId": "00dc9d34-e3ee-47a1-f1d0-8eebde9e24c1"
      },
      "execution_count": null,
      "outputs": [
        {
          "output_type": "execute_result",
          "data": {
            "text/plain": [
              "Area\n",
              "Algeria                        1313\n",
              "Angola                         1424\n",
              "Benin                          1285\n",
              "Botswana                       1378\n",
              "Burkina Faso                   1409\n",
              "Cabo Verde                     1260\n",
              "Cameroon                       1460\n",
              "Central African Republic       1344\n",
              "Chad                           1343\n",
              "Comoros                          45\n",
              "Congo                          1413\n",
              "Côte d'Ivoire                  1467\n",
              "Djibouti                       1095\n",
              "Egypt                          1488\n",
              "Eswatini                       1284\n",
              "Ethiopia                       1447\n",
              "Ethiopia PDR                     39\n",
              "Gabon                          1245\n",
              "Gambia                         1168\n",
              "Ghana                          1354\n",
              "Guinea                         1410\n",
              "Guinea-Bissau                  1128\n",
              "Kenya                          1560\n",
              "Lesotho                        1150\n",
              "Liberia                        1206\n",
              "Madagascar                     1439\n",
              "Malawi                         1447\n",
              "Mali                           1293\n",
              "Mauritania                     1195\n",
              "Mauritius                      1378\n",
              "Morocco                        1393\n",
              "Mozambique                     1427\n",
              "Namibia                        1283\n",
              "Niger                          1403\n",
              "Nigeria                        1474\n",
              "Rwanda                         1426\n",
              "Sao Tome and Principe          1177\n",
              "Senegal                        1462\n",
              "Seychelles                       68\n",
              "Sierra Leone                   1242\n",
              "South Africa                   1399\n",
              "Sudan                          1316\n",
              "Sudan (former)                   53\n",
              "Togo                           1294\n",
              "Tunisia                        1338\n",
              "Uganda                         1458\n",
              "United Republic of Tanzania    1419\n",
              "Zambia                         1451\n",
              "Zimbabwe                       1393\n",
              "Name: Area, dtype: int64"
            ]
          },
          "metadata": {},
          "execution_count": 47
        }
      ]
    }
  ]
}